{
  "cells": [
    {
      "cell_type": "markdown",
      "metadata": {
        "id": "1gGLswgM64D6"
      },
      "source": [
        "LIVROS - CSV"
      ]
    },
    {
      "cell_type": "code",
      "execution_count": 38,
      "metadata": {
        "id": "PHGPPyix67k8"
      },
      "outputs": [],
      "source": [
        "!pip install -q pandas"
      ]
    },
    {
      "cell_type": "code",
      "execution_count": 39,
      "metadata": {
        "id": "MaT_35XpzOGX"
      },
      "outputs": [],
      "source": [
        "import pandas as pd\n",
        "import os"
      ]
    },
    {
      "cell_type": "code",
      "execution_count": 40,
      "metadata": {
        "colab": {
          "base_uri": "https://localhost:8080/",
          "height": 206
        },
        "id": "eA-ou1V7WkSb",
        "outputId": "c9379ec5-d1bc-47f8-80e5-6beb7dc2046a"
      },
      "outputs": [
        {
          "data": {
            "text/html": [
              "<div>\n",
              "<style scoped>\n",
              "    .dataframe tbody tr th:only-of-type {\n",
              "        vertical-align: middle;\n",
              "    }\n",
              "\n",
              "    .dataframe tbody tr th {\n",
              "        vertical-align: top;\n",
              "    }\n",
              "\n",
              "    .dataframe thead th {\n",
              "        text-align: right;\n",
              "    }\n",
              "</style>\n",
              "<table border=\"1\" class=\"dataframe\">\n",
              "  <thead>\n",
              "    <tr style=\"text-align: right;\">\n",
              "      <th></th>\n",
              "      <th>Book</th>\n",
              "      <th>Author(s)</th>\n",
              "      <th>Original language</th>\n",
              "      <th>First published</th>\n",
              "      <th>Approximate sales in millions</th>\n",
              "      <th>Genre</th>\n",
              "    </tr>\n",
              "  </thead>\n",
              "  <tbody>\n",
              "    <tr>\n",
              "      <th>0</th>\n",
              "      <td>A Tale of Two Cities</td>\n",
              "      <td>Charles Dickens</td>\n",
              "      <td>English</td>\n",
              "      <td>1859</td>\n",
              "      <td>200.0</td>\n",
              "      <td>Historical fiction</td>\n",
              "    </tr>\n",
              "    <tr>\n",
              "      <th>1</th>\n",
              "      <td>The Little Prince (Le Petit Prince)</td>\n",
              "      <td>Antoine de Saint-Exupéry</td>\n",
              "      <td>French</td>\n",
              "      <td>1943</td>\n",
              "      <td>200.0</td>\n",
              "      <td>Novella</td>\n",
              "    </tr>\n",
              "    <tr>\n",
              "      <th>2</th>\n",
              "      <td>Harry Potter and the Philosopher's Stone</td>\n",
              "      <td>J. K. Rowling</td>\n",
              "      <td>English</td>\n",
              "      <td>1997</td>\n",
              "      <td>120.0</td>\n",
              "      <td>Fantasy</td>\n",
              "    </tr>\n",
              "    <tr>\n",
              "      <th>3</th>\n",
              "      <td>And Then There Were None</td>\n",
              "      <td>Agatha Christie</td>\n",
              "      <td>English</td>\n",
              "      <td>1939</td>\n",
              "      <td>100.0</td>\n",
              "      <td>Mystery</td>\n",
              "    </tr>\n",
              "    <tr>\n",
              "      <th>4</th>\n",
              "      <td>Dream of the Red Chamber (紅樓夢)</td>\n",
              "      <td>Cao Xueqin</td>\n",
              "      <td>Chinese</td>\n",
              "      <td>1791</td>\n",
              "      <td>100.0</td>\n",
              "      <td>Family saga</td>\n",
              "    </tr>\n",
              "  </tbody>\n",
              "</table>\n",
              "</div>"
            ],
            "text/plain": [
              "                                       Book                 Author(s)  \\\n",
              "0                      A Tale of Two Cities           Charles Dickens   \n",
              "1       The Little Prince (Le Petit Prince)  Antoine de Saint-Exupéry   \n",
              "2  Harry Potter and the Philosopher's Stone             J. K. Rowling   \n",
              "3                  And Then There Were None           Agatha Christie   \n",
              "4            Dream of the Red Chamber (紅樓夢)                Cao Xueqin   \n",
              "\n",
              "  Original language  First published  Approximate sales in millions  \\\n",
              "0           English             1859                          200.0   \n",
              "1            French             1943                          200.0   \n",
              "2           English             1997                          120.0   \n",
              "3           English             1939                          100.0   \n",
              "4           Chinese             1791                          100.0   \n",
              "\n",
              "                Genre  \n",
              "0  Historical fiction  \n",
              "1             Novella  \n",
              "2             Fantasy  \n",
              "3             Mystery  \n",
              "4         Family saga  "
            ]
          },
          "execution_count": 40,
          "metadata": {},
          "output_type": "execute_result"
        }
      ],
      "source": [
        "df = pd.read_csv('../data/livros.csv')\n",
        "df.head()"
      ]
    },
    {
      "cell_type": "code",
      "execution_count": 41,
      "metadata": {
        "colab": {
          "base_uri": "https://localhost:8080/"
        },
        "id": "epUjhynAXdYs",
        "outputId": "fc58ca2e-d3cb-4692-97ae-5682506c5e7d"
      },
      "outputs": [
        {
          "data": {
            "text/plain": [
              "(174, 6)"
            ]
          },
          "execution_count": 41,
          "metadata": {},
          "output_type": "execute_result"
        }
      ],
      "source": [
        "df.shape"
      ]
    },
    {
      "cell_type": "code",
      "execution_count": 42,
      "metadata": {
        "colab": {
          "base_uri": "https://localhost:8080/"
        },
        "id": "aVo9HFhcXfaI",
        "outputId": "4b4c09d4-547f-483f-9c1a-ca58971e47c6"
      },
      "outputs": [
        {
          "name": "stdout",
          "output_type": "stream",
          "text": [
            "<class 'pandas.core.frame.DataFrame'>\n",
            "RangeIndex: 174 entries, 0 to 173\n",
            "Data columns (total 6 columns):\n",
            " #   Column                         Non-Null Count  Dtype  \n",
            "---  ------                         --------------  -----  \n",
            " 0   Book                           174 non-null    object \n",
            " 1   Author(s)                      174 non-null    object \n",
            " 2   Original language              174 non-null    object \n",
            " 3   First published                174 non-null    int64  \n",
            " 4   Approximate sales in millions  174 non-null    float64\n",
            " 5   Genre                          118 non-null    object \n",
            "dtypes: float64(1), int64(1), object(4)\n",
            "memory usage: 8.3+ KB\n"
          ]
        }
      ],
      "source": [
        "df.info()"
      ]
    },
    {
      "cell_type": "code",
      "execution_count": 43,
      "metadata": {
        "colab": {
          "base_uri": "https://localhost:8080/"
        },
        "id": "tBDmRnxcXj7R",
        "outputId": "3c6f4e27-5782-4e6b-880d-ac19db7eddd9"
      },
      "outputs": [
        {
          "data": {
            "text/plain": [
              "Index(['Book', 'Author(s)', 'Original language', 'First published',\n",
              "       'Approximate sales in millions', 'Genre'],\n",
              "      dtype='object')"
            ]
          },
          "execution_count": 43,
          "metadata": {},
          "output_type": "execute_result"
        }
      ],
      "source": [
        "df.columns"
      ]
    },
    {
      "cell_type": "code",
      "execution_count": 44,
      "metadata": {
        "id": "2MJ_lox0ZaRo"
      },
      "outputs": [],
      "source": [
        "renamed_columns = {\n",
        "    'Book': 'book',\n",
        "    'Author(s)': 'author',\n",
        "    'Original language': 'org_lang',\n",
        "    'First published': 'year_published',\n",
        "    'Approximate sales in millions': 'sales',\n",
        "    'Genre': 'genre'\n",
        "}"
      ]
    },
    {
      "cell_type": "code",
      "execution_count": 45,
      "metadata": {
        "id": "-2KosqipZ90n"
      },
      "outputs": [],
      "source": [
        "df.rename(columns=renamed_columns, inplace=True)"
      ]
    },
    {
      "cell_type": "code",
      "execution_count": 46,
      "metadata": {
        "colab": {
          "base_uri": "https://localhost:8080/",
          "height": 206
        },
        "id": "ojVU38HsaGkX",
        "outputId": "0c6008bb-0cf9-4a4c-8d01-8954f4d39776"
      },
      "outputs": [
        {
          "data": {
            "text/html": [
              "<div>\n",
              "<style scoped>\n",
              "    .dataframe tbody tr th:only-of-type {\n",
              "        vertical-align: middle;\n",
              "    }\n",
              "\n",
              "    .dataframe tbody tr th {\n",
              "        vertical-align: top;\n",
              "    }\n",
              "\n",
              "    .dataframe thead th {\n",
              "        text-align: right;\n",
              "    }\n",
              "</style>\n",
              "<table border=\"1\" class=\"dataframe\">\n",
              "  <thead>\n",
              "    <tr style=\"text-align: right;\">\n",
              "      <th></th>\n",
              "      <th>book</th>\n",
              "      <th>author</th>\n",
              "      <th>org_lang</th>\n",
              "      <th>year_published</th>\n",
              "      <th>sales</th>\n",
              "      <th>genre</th>\n",
              "    </tr>\n",
              "  </thead>\n",
              "  <tbody>\n",
              "    <tr>\n",
              "      <th>0</th>\n",
              "      <td>A Tale of Two Cities</td>\n",
              "      <td>Charles Dickens</td>\n",
              "      <td>English</td>\n",
              "      <td>1859</td>\n",
              "      <td>200.0</td>\n",
              "      <td>Historical fiction</td>\n",
              "    </tr>\n",
              "    <tr>\n",
              "      <th>1</th>\n",
              "      <td>The Little Prince (Le Petit Prince)</td>\n",
              "      <td>Antoine de Saint-Exupéry</td>\n",
              "      <td>French</td>\n",
              "      <td>1943</td>\n",
              "      <td>200.0</td>\n",
              "      <td>Novella</td>\n",
              "    </tr>\n",
              "    <tr>\n",
              "      <th>2</th>\n",
              "      <td>Harry Potter and the Philosopher's Stone</td>\n",
              "      <td>J. K. Rowling</td>\n",
              "      <td>English</td>\n",
              "      <td>1997</td>\n",
              "      <td>120.0</td>\n",
              "      <td>Fantasy</td>\n",
              "    </tr>\n",
              "    <tr>\n",
              "      <th>3</th>\n",
              "      <td>And Then There Were None</td>\n",
              "      <td>Agatha Christie</td>\n",
              "      <td>English</td>\n",
              "      <td>1939</td>\n",
              "      <td>100.0</td>\n",
              "      <td>Mystery</td>\n",
              "    </tr>\n",
              "    <tr>\n",
              "      <th>4</th>\n",
              "      <td>Dream of the Red Chamber (紅樓夢)</td>\n",
              "      <td>Cao Xueqin</td>\n",
              "      <td>Chinese</td>\n",
              "      <td>1791</td>\n",
              "      <td>100.0</td>\n",
              "      <td>Family saga</td>\n",
              "    </tr>\n",
              "  </tbody>\n",
              "</table>\n",
              "</div>"
            ],
            "text/plain": [
              "                                       book                    author  \\\n",
              "0                      A Tale of Two Cities           Charles Dickens   \n",
              "1       The Little Prince (Le Petit Prince)  Antoine de Saint-Exupéry   \n",
              "2  Harry Potter and the Philosopher's Stone             J. K. Rowling   \n",
              "3                  And Then There Were None           Agatha Christie   \n",
              "4            Dream of the Red Chamber (紅樓夢)                Cao Xueqin   \n",
              "\n",
              "  org_lang  year_published  sales               genre  \n",
              "0  English            1859  200.0  Historical fiction  \n",
              "1   French            1943  200.0             Novella  \n",
              "2  English            1997  120.0             Fantasy  \n",
              "3  English            1939  100.0             Mystery  \n",
              "4  Chinese            1791  100.0         Family saga  "
            ]
          },
          "execution_count": 46,
          "metadata": {},
          "output_type": "execute_result"
        }
      ],
      "source": [
        "df.head()"
      ]
    },
    {
      "cell_type": "code",
      "execution_count": 47,
      "metadata": {
        "colab": {
          "base_uri": "https://localhost:8080/",
          "height": 272
        },
        "id": "4U-UIeXpaIh0",
        "outputId": "ccd846ba-dfd4-4b10-a2e9-749c1abf331b"
      },
      "outputs": [
        {
          "data": {
            "text/plain": [
              "book               0\n",
              "author             0\n",
              "org_lang           0\n",
              "year_published     0\n",
              "sales              0\n",
              "genre             56\n",
              "dtype: int64"
            ]
          },
          "execution_count": 47,
          "metadata": {},
          "output_type": "execute_result"
        }
      ],
      "source": [
        "df.isnull().sum()"
      ]
    },
    {
      "cell_type": "code",
      "execution_count": 48,
      "metadata": {
        "id": "8sdd-WFCoqHO"
      },
      "outputs": [],
      "source": [
        "df[\"genre\"] = df[\"genre\"].fillna(\"Unknown\")"
      ]
    },
    {
      "cell_type": "code",
      "execution_count": 49,
      "metadata": {
        "colab": {
          "base_uri": "https://localhost:8080/"
        },
        "id": "QBNpC6o9pNmr",
        "outputId": "0076b695-2dbd-482d-d2f8-b153223a7f23"
      },
      "outputs": [
        {
          "data": {
            "text/plain": [
              "np.int64(0)"
            ]
          },
          "execution_count": 49,
          "metadata": {},
          "output_type": "execute_result"
        }
      ],
      "source": [
        "df[\"genre\"].isnull().sum()"
      ]
    },
    {
      "cell_type": "code",
      "execution_count": 50,
      "metadata": {
        "colab": {
          "base_uri": "https://localhost:8080/",
          "height": 490
        },
        "id": "aiNDYEb7ay9E",
        "outputId": "28702e54-113d-408e-f51b-a84e2201e169"
      },
      "outputs": [
        {
          "data": {
            "text/plain": [
              "author\n",
              "J. K. Rowling                 7\n",
              "Dan Brown                     3\n",
              "Suzanne Collins               3\n",
              "Roald Dahl                    3\n",
              "George Orwell                 2\n",
              "                             ..\n",
              "Eliyahu M. Goldratt           1\n",
              "Ray Bradbury                  1\n",
              "Frank McCourt                 1\n",
              "Mohandas Karamchand Gandhi    1\n",
              "Helen Fielding                1\n",
              "Name: count, Length: 157, dtype: int64"
            ]
          },
          "execution_count": 50,
          "metadata": {},
          "output_type": "execute_result"
        }
      ],
      "source": [
        "df[\"author\"].value_counts()"
      ]
    },
    {
      "cell_type": "code",
      "execution_count": 51,
      "metadata": {
        "id": "4o2ic3GTbcaZ"
      },
      "outputs": [],
      "source": [
        "df_authors = pd.DataFrame(df[\"author\"].unique(), columns=[\"author\"])\n",
        "df_authors[\"author_id\"] = df_authors.index + 1"
      ]
    },
    {
      "cell_type": "code",
      "execution_count": 52,
      "metadata": {
        "colab": {
          "base_uri": "https://localhost:8080/",
          "height": 206
        },
        "id": "L_73I2AHcG4Y",
        "outputId": "4d93c642-963d-43a4-bbdf-afa2706aa33d"
      },
      "outputs": [
        {
          "data": {
            "text/html": [
              "<div>\n",
              "<style scoped>\n",
              "    .dataframe tbody tr th:only-of-type {\n",
              "        vertical-align: middle;\n",
              "    }\n",
              "\n",
              "    .dataframe tbody tr th {\n",
              "        vertical-align: top;\n",
              "    }\n",
              "\n",
              "    .dataframe thead th {\n",
              "        text-align: right;\n",
              "    }\n",
              "</style>\n",
              "<table border=\"1\" class=\"dataframe\">\n",
              "  <thead>\n",
              "    <tr style=\"text-align: right;\">\n",
              "      <th></th>\n",
              "      <th>author</th>\n",
              "      <th>author_id</th>\n",
              "    </tr>\n",
              "  </thead>\n",
              "  <tbody>\n",
              "    <tr>\n",
              "      <th>0</th>\n",
              "      <td>Charles Dickens</td>\n",
              "      <td>1</td>\n",
              "    </tr>\n",
              "    <tr>\n",
              "      <th>1</th>\n",
              "      <td>Antoine de Saint-Exupéry</td>\n",
              "      <td>2</td>\n",
              "    </tr>\n",
              "    <tr>\n",
              "      <th>2</th>\n",
              "      <td>J. K. Rowling</td>\n",
              "      <td>3</td>\n",
              "    </tr>\n",
              "    <tr>\n",
              "      <th>3</th>\n",
              "      <td>Agatha Christie</td>\n",
              "      <td>4</td>\n",
              "    </tr>\n",
              "    <tr>\n",
              "      <th>4</th>\n",
              "      <td>Cao Xueqin</td>\n",
              "      <td>5</td>\n",
              "    </tr>\n",
              "  </tbody>\n",
              "</table>\n",
              "</div>"
            ],
            "text/plain": [
              "                     author  author_id\n",
              "0           Charles Dickens          1\n",
              "1  Antoine de Saint-Exupéry          2\n",
              "2             J. K. Rowling          3\n",
              "3           Agatha Christie          4\n",
              "4                Cao Xueqin          5"
            ]
          },
          "execution_count": 52,
          "metadata": {},
          "output_type": "execute_result"
        }
      ],
      "source": [
        "df_authors.head()"
      ]
    },
    {
      "cell_type": "code",
      "execution_count": 53,
      "metadata": {
        "colab": {
          "base_uri": "https://localhost:8080/",
          "height": 206
        },
        "id": "FOJWMlt0ch8O",
        "outputId": "c46fa19b-dd98-41bf-fb9b-6cf478361ee6"
      },
      "outputs": [
        {
          "data": {
            "text/html": [
              "<div>\n",
              "<style scoped>\n",
              "    .dataframe tbody tr th:only-of-type {\n",
              "        vertical-align: middle;\n",
              "    }\n",
              "\n",
              "    .dataframe tbody tr th {\n",
              "        vertical-align: top;\n",
              "    }\n",
              "\n",
              "    .dataframe thead th {\n",
              "        text-align: right;\n",
              "    }\n",
              "</style>\n",
              "<table border=\"1\" class=\"dataframe\">\n",
              "  <thead>\n",
              "    <tr style=\"text-align: right;\">\n",
              "      <th></th>\n",
              "      <th>book</th>\n",
              "      <th>author</th>\n",
              "      <th>org_lang</th>\n",
              "      <th>year_published</th>\n",
              "      <th>sales</th>\n",
              "      <th>genre</th>\n",
              "      <th>author_id</th>\n",
              "    </tr>\n",
              "  </thead>\n",
              "  <tbody>\n",
              "    <tr>\n",
              "      <th>0</th>\n",
              "      <td>A Tale of Two Cities</td>\n",
              "      <td>Charles Dickens</td>\n",
              "      <td>English</td>\n",
              "      <td>1859</td>\n",
              "      <td>200.0</td>\n",
              "      <td>Historical fiction</td>\n",
              "      <td>1</td>\n",
              "    </tr>\n",
              "    <tr>\n",
              "      <th>1</th>\n",
              "      <td>The Little Prince (Le Petit Prince)</td>\n",
              "      <td>Antoine de Saint-Exupéry</td>\n",
              "      <td>French</td>\n",
              "      <td>1943</td>\n",
              "      <td>200.0</td>\n",
              "      <td>Novella</td>\n",
              "      <td>2</td>\n",
              "    </tr>\n",
              "    <tr>\n",
              "      <th>2</th>\n",
              "      <td>Harry Potter and the Philosopher's Stone</td>\n",
              "      <td>J. K. Rowling</td>\n",
              "      <td>English</td>\n",
              "      <td>1997</td>\n",
              "      <td>120.0</td>\n",
              "      <td>Fantasy</td>\n",
              "      <td>3</td>\n",
              "    </tr>\n",
              "    <tr>\n",
              "      <th>3</th>\n",
              "      <td>And Then There Were None</td>\n",
              "      <td>Agatha Christie</td>\n",
              "      <td>English</td>\n",
              "      <td>1939</td>\n",
              "      <td>100.0</td>\n",
              "      <td>Mystery</td>\n",
              "      <td>4</td>\n",
              "    </tr>\n",
              "    <tr>\n",
              "      <th>4</th>\n",
              "      <td>Dream of the Red Chamber (紅樓夢)</td>\n",
              "      <td>Cao Xueqin</td>\n",
              "      <td>Chinese</td>\n",
              "      <td>1791</td>\n",
              "      <td>100.0</td>\n",
              "      <td>Family saga</td>\n",
              "      <td>5</td>\n",
              "    </tr>\n",
              "  </tbody>\n",
              "</table>\n",
              "</div>"
            ],
            "text/plain": [
              "                                       book                    author  \\\n",
              "0                      A Tale of Two Cities           Charles Dickens   \n",
              "1       The Little Prince (Le Petit Prince)  Antoine de Saint-Exupéry   \n",
              "2  Harry Potter and the Philosopher's Stone             J. K. Rowling   \n",
              "3                  And Then There Were None           Agatha Christie   \n",
              "4            Dream of the Red Chamber (紅樓夢)                Cao Xueqin   \n",
              "\n",
              "  org_lang  year_published  sales               genre  author_id  \n",
              "0  English            1859  200.0  Historical fiction          1  \n",
              "1   French            1943  200.0             Novella          2  \n",
              "2  English            1997  120.0             Fantasy          3  \n",
              "3  English            1939  100.0             Mystery          4  \n",
              "4  Chinese            1791  100.0         Family saga          5  "
            ]
          },
          "execution_count": 53,
          "metadata": {},
          "output_type": "execute_result"
        }
      ],
      "source": [
        "df = df.merge(df_authors, on=\"author\", how=\"left\")\n",
        "df.head()"
      ]
    },
    {
      "cell_type": "code",
      "execution_count": 54,
      "metadata": {
        "id": "XKSYq8p-g0a4"
      },
      "outputs": [],
      "source": [
        "authors = pd.DataFrame(df['author'].unique(), columns=['name'])"
      ]
    },
    {
      "cell_type": "code",
      "execution_count": 55,
      "metadata": {
        "id": "LuuXTvzFmPJ1"
      },
      "outputs": [],
      "source": [
        "with open(\"../sql/inserts/authors.sql\", \"w\", encoding=\"utf-8\") as f:\n",
        "  for _, row in authors.iterrows():\n",
        "    name = row['name'].replace(\"'\", \"''\")\n",
        "    f.write(f\"INSERT INTO authors (name) VALUES ('{name}');\\n\")"
      ]
    },
    {
      "cell_type": "code",
      "execution_count": 56,
      "metadata": {
        "id": "FBEnYCEKpJu5"
      },
      "outputs": [],
      "source": [
        "df_genre = pd.DataFrame(df[\"genre\"].unique(), columns=[\"genre\"])\n",
        "df_genre[\"genre_id\"] = df_genre.index + 1"
      ]
    },
    {
      "cell_type": "code",
      "execution_count": 57,
      "metadata": {
        "colab": {
          "base_uri": "https://localhost:8080/",
          "height": 206
        },
        "id": "DGqIiFxZpfOk",
        "outputId": "ca6d0a30-1cbc-4d03-d2e6-7bca68b7c601"
      },
      "outputs": [
        {
          "data": {
            "text/html": [
              "<div>\n",
              "<style scoped>\n",
              "    .dataframe tbody tr th:only-of-type {\n",
              "        vertical-align: middle;\n",
              "    }\n",
              "\n",
              "    .dataframe tbody tr th {\n",
              "        vertical-align: top;\n",
              "    }\n",
              "\n",
              "    .dataframe thead th {\n",
              "        text-align: right;\n",
              "    }\n",
              "</style>\n",
              "<table border=\"1\" class=\"dataframe\">\n",
              "  <thead>\n",
              "    <tr style=\"text-align: right;\">\n",
              "      <th></th>\n",
              "      <th>book</th>\n",
              "      <th>author</th>\n",
              "      <th>org_lang</th>\n",
              "      <th>year_published</th>\n",
              "      <th>sales</th>\n",
              "      <th>genre</th>\n",
              "      <th>author_id</th>\n",
              "      <th>genre_id</th>\n",
              "    </tr>\n",
              "  </thead>\n",
              "  <tbody>\n",
              "    <tr>\n",
              "      <th>0</th>\n",
              "      <td>A Tale of Two Cities</td>\n",
              "      <td>Charles Dickens</td>\n",
              "      <td>English</td>\n",
              "      <td>1859</td>\n",
              "      <td>200.0</td>\n",
              "      <td>Historical fiction</td>\n",
              "      <td>1</td>\n",
              "      <td>1</td>\n",
              "    </tr>\n",
              "    <tr>\n",
              "      <th>1</th>\n",
              "      <td>The Little Prince (Le Petit Prince)</td>\n",
              "      <td>Antoine de Saint-Exupéry</td>\n",
              "      <td>French</td>\n",
              "      <td>1943</td>\n",
              "      <td>200.0</td>\n",
              "      <td>Novella</td>\n",
              "      <td>2</td>\n",
              "      <td>2</td>\n",
              "    </tr>\n",
              "    <tr>\n",
              "      <th>2</th>\n",
              "      <td>Harry Potter and the Philosopher's Stone</td>\n",
              "      <td>J. K. Rowling</td>\n",
              "      <td>English</td>\n",
              "      <td>1997</td>\n",
              "      <td>120.0</td>\n",
              "      <td>Fantasy</td>\n",
              "      <td>3</td>\n",
              "      <td>3</td>\n",
              "    </tr>\n",
              "    <tr>\n",
              "      <th>3</th>\n",
              "      <td>And Then There Were None</td>\n",
              "      <td>Agatha Christie</td>\n",
              "      <td>English</td>\n",
              "      <td>1939</td>\n",
              "      <td>100.0</td>\n",
              "      <td>Mystery</td>\n",
              "      <td>4</td>\n",
              "      <td>4</td>\n",
              "    </tr>\n",
              "    <tr>\n",
              "      <th>4</th>\n",
              "      <td>Dream of the Red Chamber (紅樓夢)</td>\n",
              "      <td>Cao Xueqin</td>\n",
              "      <td>Chinese</td>\n",
              "      <td>1791</td>\n",
              "      <td>100.0</td>\n",
              "      <td>Family saga</td>\n",
              "      <td>5</td>\n",
              "      <td>5</td>\n",
              "    </tr>\n",
              "  </tbody>\n",
              "</table>\n",
              "</div>"
            ],
            "text/plain": [
              "                                       book                    author  \\\n",
              "0                      A Tale of Two Cities           Charles Dickens   \n",
              "1       The Little Prince (Le Petit Prince)  Antoine de Saint-Exupéry   \n",
              "2  Harry Potter and the Philosopher's Stone             J. K. Rowling   \n",
              "3                  And Then There Were None           Agatha Christie   \n",
              "4            Dream of the Red Chamber (紅樓夢)                Cao Xueqin   \n",
              "\n",
              "  org_lang  year_published  sales               genre  author_id  genre_id  \n",
              "0  English            1859  200.0  Historical fiction          1         1  \n",
              "1   French            1943  200.0             Novella          2         2  \n",
              "2  English            1997  120.0             Fantasy          3         3  \n",
              "3  English            1939  100.0             Mystery          4         4  \n",
              "4  Chinese            1791  100.0         Family saga          5         5  "
            ]
          },
          "execution_count": 57,
          "metadata": {},
          "output_type": "execute_result"
        }
      ],
      "source": [
        "df = df.merge(df_genre, on=\"genre\", how=\"left\")\n",
        "df.head()"
      ]
    },
    {
      "cell_type": "code",
      "execution_count": 58,
      "metadata": {
        "id": "LjLuqZWfqBBD"
      },
      "outputs": [],
      "source": [
        "genres = pd.DataFrame(df[\"genre\"].unique(), columns=[\"genre\"])"
      ]
    },
    {
      "cell_type": "code",
      "execution_count": 59,
      "metadata": {
        "id": "db1S4ucyyiXw"
      },
      "outputs": [],
      "source": [
        "!pip install -q deep-translator"
      ]
    },
    {
      "cell_type": "code",
      "execution_count": 60,
      "metadata": {
        "colab": {
          "base_uri": "https://localhost:8080/",
          "height": 206
        },
        "id": "dIcT3sm6yl4x",
        "outputId": "70274cc3-b4af-4834-ba57-c2826adc5021"
      },
      "outputs": [
        {
          "data": {
            "text/html": [
              "<div>\n",
              "<style scoped>\n",
              "    .dataframe tbody tr th:only-of-type {\n",
              "        vertical-align: middle;\n",
              "    }\n",
              "\n",
              "    .dataframe tbody tr th {\n",
              "        vertical-align: top;\n",
              "    }\n",
              "\n",
              "    .dataframe thead th {\n",
              "        text-align: right;\n",
              "    }\n",
              "</style>\n",
              "<table border=\"1\" class=\"dataframe\">\n",
              "  <thead>\n",
              "    <tr style=\"text-align: right;\">\n",
              "      <th></th>\n",
              "      <th>genre</th>\n",
              "      <th>genre_pt</th>\n",
              "    </tr>\n",
              "  </thead>\n",
              "  <tbody>\n",
              "    <tr>\n",
              "      <th>0</th>\n",
              "      <td>Historical fiction</td>\n",
              "      <td>Ficção histórica</td>\n",
              "    </tr>\n",
              "    <tr>\n",
              "      <th>1</th>\n",
              "      <td>Novella</td>\n",
              "      <td>Novella</td>\n",
              "    </tr>\n",
              "    <tr>\n",
              "      <th>2</th>\n",
              "      <td>Fantasy</td>\n",
              "      <td>Fantasia</td>\n",
              "    </tr>\n",
              "    <tr>\n",
              "      <th>3</th>\n",
              "      <td>Mystery</td>\n",
              "      <td>Mistério</td>\n",
              "    </tr>\n",
              "    <tr>\n",
              "      <th>4</th>\n",
              "      <td>Family saga</td>\n",
              "      <td>Saga da família</td>\n",
              "    </tr>\n",
              "  </tbody>\n",
              "</table>\n",
              "</div>"
            ],
            "text/plain": [
              "                genre          genre_pt\n",
              "0  Historical fiction  Ficção histórica\n",
              "1             Novella           Novella\n",
              "2             Fantasy          Fantasia\n",
              "3             Mystery          Mistério\n",
              "4         Family saga   Saga da família"
            ]
          },
          "execution_count": 60,
          "metadata": {},
          "output_type": "execute_result"
        }
      ],
      "source": [
        "from deep_translator import GoogleTranslator\n",
        "\n",
        "genres[\"genre_pt\"] = genres[\"genre\"].apply(\n",
        "    lambda x: GoogleTranslator(source=\"auto\", target=\"pt\").translate(x)\n",
        ")\n",
        "genres.head()"
      ]
    },
    {
      "cell_type": "code",
      "execution_count": 61,
      "metadata": {
        "id": "_99Slqry0oez"
      },
      "outputs": [],
      "source": [
        "genres[\"genre_pt\"] = genres[\"genre_pt\"].replace(\"Novella\", \"Novela\")\n",
        "genres[\"genre_pt\"] = genres[\"genre_pt\"].str.lower()\n",
        "genres[\"genre\"] = genres[\"genre\"].str.lower()"
      ]
    },
    {
      "cell_type": "code",
      "execution_count": 62,
      "metadata": {
        "id": "Qyc8UqVcqKMA"
      },
      "outputs": [],
      "source": [
        "with open(\"../sql/inserts/genres.sql\", \"w\", encoding=\"utf-8\") as f:\n",
        "  for index, row in genres.iterrows():\n",
        "    genre = row[\"genre\"].replace(\"'\", \"''\")\n",
        "    genre_pt = row[\"genre_pt\"].replace(\"'\", \"''\")\n",
        "    f.write(f\"INSERT INTO genres (genre, genre_pt) VALUES ('{genre}', '{genre_pt}');\\n\")"
      ]
    },
    {
      "cell_type": "code",
      "execution_count": 63,
      "metadata": {
        "id": "LPqEeJD68j-Q"
      },
      "outputs": [],
      "source": [
        "df[\"book_id\"] = df.index + 1"
      ]
    },
    {
      "cell_type": "code",
      "execution_count": 64,
      "metadata": {
        "id": "EIBlJ67k23qE"
      },
      "outputs": [],
      "source": [
        "with open(\"../sql/inserts/books.sql\", \"w\", encoding=\"utf-8\") as f:\n",
        "  for _, row in df.iterrows():\n",
        "    book_name = row[\"book\"].replace(\"'\", \"''\")\n",
        "    org_lang = row[\"org_lang\"].replace(\"'\", \"''\")\n",
        "    year_published = int(row[\"year_published\"])\n",
        "    sales = float(row[\"sales\"])\n",
        "    author_id = int(row[\"author_id\"])\n",
        "    genre_id = int(row[\"genre_id\"])\n",
        "    sql = (f\"INSERT INTO books (book_name, org_lang, year_published, sales, author_id, genre_id) \"\n",
        "            f\"VALUES ('{book_name}', '{org_lang}', '{year_published}', '{sales:.2f}', '{author_id}', '{genre_id}');\\n\"\n",
        "    )\n",
        "    f.write(sql)"
      ]
    },
    {
      "cell_type": "markdown",
      "metadata": {
        "id": "_fjOuAN27Kcp"
      },
      "source": [
        "LIVROS - API"
      ]
    },
    {
      "cell_type": "code",
      "execution_count": 65,
      "metadata": {
        "colab": {
          "base_uri": "https://localhost:8080/",
          "height": 206
        },
        "id": "4Cj7BrnO7CSn",
        "outputId": "aa99d791-6664-4020-d725-19a048fffe36"
      },
      "outputs": [
        {
          "data": {
            "text/html": [
              "<div>\n",
              "<style scoped>\n",
              "    .dataframe tbody tr th:only-of-type {\n",
              "        vertical-align: middle;\n",
              "    }\n",
              "\n",
              "    .dataframe tbody tr th {\n",
              "        vertical-align: top;\n",
              "    }\n",
              "\n",
              "    .dataframe thead th {\n",
              "        text-align: right;\n",
              "    }\n",
              "</style>\n",
              "<table border=\"1\" class=\"dataframe\">\n",
              "  <thead>\n",
              "    <tr style=\"text-align: right;\">\n",
              "      <th></th>\n",
              "      <th>id</th>\n",
              "      <th>livro</th>\n",
              "      <th>nome</th>\n",
              "      <th>sobrenome</th>\n",
              "      <th>comentario</th>\n",
              "    </tr>\n",
              "  </thead>\n",
              "  <tbody>\n",
              "    <tr>\n",
              "      <th>0</th>\n",
              "      <td>1</td>\n",
              "      <td>The Dukan Diet</td>\n",
              "      <td>Danielle</td>\n",
              "      <td>Johnson</td>\n",
              "      <td>Achei a história envolvente e bem escrita.</td>\n",
              "    </tr>\n",
              "    <tr>\n",
              "      <th>1</th>\n",
              "      <td>2</td>\n",
              "      <td>The Lion, the Witch and the Wardrobe</td>\n",
              "      <td>Joshua</td>\n",
              "      <td>Walker</td>\n",
              "      <td>Esperava mais do enredo.</td>\n",
              "    </tr>\n",
              "    <tr>\n",
              "      <th>2</th>\n",
              "      <td>3</td>\n",
              "      <td>James and the Giant Peach</td>\n",
              "      <td>Jill</td>\n",
              "      <td>Rhodes</td>\n",
              "      <td>Personagens cativantes e trama surpreendente.</td>\n",
              "    </tr>\n",
              "    <tr>\n",
              "      <th>3</th>\n",
              "      <td>4</td>\n",
              "      <td>The Very Hungry Caterpillar</td>\n",
              "      <td>Patricia</td>\n",
              "      <td>Miller</td>\n",
              "      <td>Achei a história envolvente e bem escrita.</td>\n",
              "    </tr>\n",
              "    <tr>\n",
              "      <th>4</th>\n",
              "      <td>5</td>\n",
              "      <td>Bridget Jones's Diary</td>\n",
              "      <td>Robert</td>\n",
              "      <td>Johnson</td>\n",
              "      <td>Um dos melhores que já li.</td>\n",
              "    </tr>\n",
              "  </tbody>\n",
              "</table>\n",
              "</div>"
            ],
            "text/plain": [
              "   id                                 livro      nome sobrenome  \\\n",
              "0   1                        The Dukan Diet  Danielle   Johnson   \n",
              "1   2  The Lion, the Witch and the Wardrobe    Joshua    Walker   \n",
              "2   3             James and the Giant Peach      Jill    Rhodes   \n",
              "3   4           The Very Hungry Caterpillar  Patricia    Miller   \n",
              "4   5                 Bridget Jones's Diary    Robert   Johnson   \n",
              "\n",
              "                                      comentario  \n",
              "0     Achei a história envolvente e bem escrita.  \n",
              "1                       Esperava mais do enredo.  \n",
              "2  Personagens cativantes e trama surpreendente.  \n",
              "3     Achei a história envolvente e bem escrita.  \n",
              "4                     Um dos melhores que já li.  "
            ]
          },
          "execution_count": 65,
          "metadata": {},
          "output_type": "execute_result"
        }
      ],
      "source": [
        "api = \"https://raw.githubusercontent.com/guilhermeonrails/datas-csv/refs/heads/main/comentarios.json\"\n",
        "df_coments = pd.read_json(api)\n",
        "df_coments.head()"
      ]
    },
    {
      "cell_type": "code",
      "execution_count": 66,
      "metadata": {
        "colab": {
          "base_uri": "https://localhost:8080/"
        },
        "id": "3l171xqq7lEb",
        "outputId": "19f6c525-658b-413a-d576-cbe509004492"
      },
      "outputs": [
        {
          "data": {
            "text/plain": [
              "(10000, 5)"
            ]
          },
          "execution_count": 66,
          "metadata": {},
          "output_type": "execute_result"
        }
      ],
      "source": [
        "df_coments.shape"
      ]
    },
    {
      "cell_type": "code",
      "execution_count": 67,
      "metadata": {
        "colab": {
          "base_uri": "https://localhost:8080/"
        },
        "id": "YZHdqhRP7rbt",
        "outputId": "9e717205-77f1-46d2-ad6c-fd21a613233d"
      },
      "outputs": [
        {
          "name": "stdout",
          "output_type": "stream",
          "text": [
            "<class 'pandas.core.frame.DataFrame'>\n",
            "RangeIndex: 10000 entries, 0 to 9999\n",
            "Data columns (total 5 columns):\n",
            " #   Column      Non-Null Count  Dtype \n",
            "---  ------      --------------  ----- \n",
            " 0   id          10000 non-null  int64 \n",
            " 1   livro       10000 non-null  object\n",
            " 2   nome        10000 non-null  object\n",
            " 3   sobrenome   10000 non-null  object\n",
            " 4   comentario  10000 non-null  object\n",
            "dtypes: int64(1), object(4)\n",
            "memory usage: 390.8+ KB\n"
          ]
        }
      ],
      "source": [
        "df_coments.info()"
      ]
    },
    {
      "cell_type": "code",
      "execution_count": 68,
      "metadata": {
        "id": "oXu6MtYt9bxe"
      },
      "outputs": [],
      "source": [
        "renamed_columns = {\n",
        "    'livro': 'book',\n",
        "    'nome': 'name',\n",
        "    'sobrenome': 'last_name',\n",
        "    'comentario': 'coment'\n",
        "}\n",
        "df_coments.rename(columns=renamed_columns, inplace=True)"
      ]
    },
    {
      "cell_type": "code",
      "execution_count": 69,
      "metadata": {
        "colab": {
          "base_uri": "https://localhost:8080/",
          "height": 241
        },
        "id": "-rGs61wY7tdi",
        "outputId": "6abfe66c-0c4f-488c-fb16-31125a03ddd0"
      },
      "outputs": [
        {
          "data": {
            "text/plain": [
              "id           0\n",
              "book         0\n",
              "name         0\n",
              "last_name    0\n",
              "coment       0\n",
              "dtype: int64"
            ]
          },
          "execution_count": 69,
          "metadata": {},
          "output_type": "execute_result"
        }
      ],
      "source": [
        "df_coments.isnull().sum()"
      ]
    },
    {
      "cell_type": "code",
      "execution_count": 70,
      "metadata": {
        "colab": {
          "base_uri": "https://localhost:8080/",
          "height": 206
        },
        "id": "TNKJ8jgo7zDo",
        "outputId": "c2828d18-238e-4f42-f115-77664382ea8d"
      },
      "outputs": [
        {
          "data": {
            "text/html": [
              "<div>\n",
              "<style scoped>\n",
              "    .dataframe tbody tr th:only-of-type {\n",
              "        vertical-align: middle;\n",
              "    }\n",
              "\n",
              "    .dataframe tbody tr th {\n",
              "        vertical-align: top;\n",
              "    }\n",
              "\n",
              "    .dataframe thead th {\n",
              "        text-align: right;\n",
              "    }\n",
              "</style>\n",
              "<table border=\"1\" class=\"dataframe\">\n",
              "  <thead>\n",
              "    <tr style=\"text-align: right;\">\n",
              "      <th></th>\n",
              "      <th>id</th>\n",
              "      <th>book</th>\n",
              "      <th>name</th>\n",
              "      <th>last_name</th>\n",
              "      <th>coment</th>\n",
              "      <th>book_id</th>\n",
              "    </tr>\n",
              "  </thead>\n",
              "  <tbody>\n",
              "    <tr>\n",
              "      <th>0</th>\n",
              "      <td>1</td>\n",
              "      <td>The Dukan Diet</td>\n",
              "      <td>Danielle</td>\n",
              "      <td>Johnson</td>\n",
              "      <td>Achei a história envolvente e bem escrita.</td>\n",
              "      <td>163</td>\n",
              "    </tr>\n",
              "    <tr>\n",
              "      <th>1</th>\n",
              "      <td>2</td>\n",
              "      <td>The Lion, the Witch and the Wardrobe</td>\n",
              "      <td>Joshua</td>\n",
              "      <td>Walker</td>\n",
              "      <td>Esperava mais do enredo.</td>\n",
              "      <td>6</td>\n",
              "    </tr>\n",
              "    <tr>\n",
              "      <th>2</th>\n",
              "      <td>3</td>\n",
              "      <td>James and the Giant Peach</td>\n",
              "      <td>Jill</td>\n",
              "      <td>Rhodes</td>\n",
              "      <td>Personagens cativantes e trama surpreendente.</td>\n",
              "      <td>62</td>\n",
              "    </tr>\n",
              "    <tr>\n",
              "      <th>3</th>\n",
              "      <td>4</td>\n",
              "      <td>The Very Hungry Caterpillar</td>\n",
              "      <td>Patricia</td>\n",
              "      <td>Miller</td>\n",
              "      <td>Achei a história envolvente e bem escrita.</td>\n",
              "      <td>35</td>\n",
              "    </tr>\n",
              "    <tr>\n",
              "      <th>4</th>\n",
              "      <td>5</td>\n",
              "      <td>Bridget Jones's Diary</td>\n",
              "      <td>Robert</td>\n",
              "      <td>Johnson</td>\n",
              "      <td>Um dos melhores que já li.</td>\n",
              "      <td>173</td>\n",
              "    </tr>\n",
              "  </tbody>\n",
              "</table>\n",
              "</div>"
            ],
            "text/plain": [
              "   id                                  book      name last_name  \\\n",
              "0   1                        The Dukan Diet  Danielle   Johnson   \n",
              "1   2  The Lion, the Witch and the Wardrobe    Joshua    Walker   \n",
              "2   3             James and the Giant Peach      Jill    Rhodes   \n",
              "3   4           The Very Hungry Caterpillar  Patricia    Miller   \n",
              "4   5                 Bridget Jones's Diary    Robert   Johnson   \n",
              "\n",
              "                                          coment  book_id  \n",
              "0     Achei a história envolvente e bem escrita.      163  \n",
              "1                       Esperava mais do enredo.        6  \n",
              "2  Personagens cativantes e trama surpreendente.       62  \n",
              "3     Achei a história envolvente e bem escrita.       35  \n",
              "4                     Um dos melhores que já li.      173  "
            ]
          },
          "execution_count": 70,
          "metadata": {},
          "output_type": "execute_result"
        }
      ],
      "source": [
        "df_coments = df_coments.merge(df[[\"book\"]].reset_index().rename(columns={\"index\": \"book_id\"}), on=\"book\", how=\"left\")\n",
        "df_coments.head()"
      ]
    },
    {
      "cell_type": "code",
      "execution_count": 71,
      "metadata": {
        "colab": {
          "base_uri": "https://localhost:8080/"
        },
        "id": "NfsLb9KeECgZ",
        "outputId": "9af1418b-2b8a-4107-fb2f-a48e288bac38"
      },
      "outputs": [
        {
          "name": "stdout",
          "output_type": "stream",
          "text": [
            "173 0\n"
          ]
        }
      ],
      "source": [
        "print(f\"{df_coments['book_id'].max()} {df_coments['book_id'].min()}\")"
      ]
    },
    {
      "cell_type": "code",
      "execution_count": 72,
      "metadata": {
        "id": "boOL9W7rD7X1"
      },
      "outputs": [],
      "source": [
        "df_coments[\"book_id\"] += 1"
      ]
    },
    {
      "cell_type": "code",
      "execution_count": 73,
      "metadata": {
        "id": "cD2y8fKlEfwl"
      },
      "outputs": [],
      "source": [
        "def format_value(value):\n",
        "  if pd.isna(value):\n",
        "    return \"NULL\"\n",
        "  elif isinstance(value, str):\n",
        "    value = value.replace(\"'\", \"''\")\n",
        "    return f\"'{value}'\"\n",
        "  else:\n",
        "    return str(value)"
      ]
    },
    {
      "cell_type": "code",
      "execution_count": 74,
      "metadata": {
        "id": "_s8Iwh4RFP03"
      },
      "outputs": [],
      "source": [
        "with open(\"../sql/inserts/coments.sql\", \"w\", encoding=\"utf-8\") as f:\n",
        "  for _, row in df_coments.iterrows():\n",
        "    values = (\n",
        "        format_value(row[\"book_id\"]),\n",
        "        format_value(row[\"name\"]),\n",
        "        format_value(row[\"last_name\"]),\n",
        "        format_value(row[\"coment\"])\n",
        "    )\n",
        "    sql = f\"INSERT INTO coments (book_id, name, last_name, coment) VALUES ({', '.join(values)});\\n\"\n",
        "    f.write(sql)"
      ]
    }
  ],
  "metadata": {
    "colab": {
      "provenance": []
    },
    "kernelspec": {
      "display_name": "base",
      "language": "python",
      "name": "python3"
    },
    "language_info": {
      "codemirror_mode": {
        "name": "ipython",
        "version": 3
      },
      "file_extension": ".py",
      "mimetype": "text/x-python",
      "name": "python",
      "nbconvert_exporter": "python",
      "pygments_lexer": "ipython3",
      "version": "3.13.5"
    }
  },
  "nbformat": 4,
  "nbformat_minor": 0
}
